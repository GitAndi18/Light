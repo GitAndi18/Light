{
 "cells": [
  {
   "cell_type": "markdown",
   "metadata": {},
   "source": [
    "# Light- and Daylighting"
   ]
  },
  {
   "cell_type": "markdown",
   "metadata": {},
   "source": [
    "The aim of this lecture is to familiarise students with the physics of lighting.\n",
    "\n",
    "## Motivation\n",
    "\n",
    "Light is of great importance for human perception and feeling comfortable - man is an \"eye being\". Although energy requirements are of secondary importance in the residential sector, they play a significant role in the office sector. It adds to the cooling load, especially in summer. \n",
    "\n",
    "## Skills to be acquired\n",
    "\n",
    "Calculation of\n",
    "\n",
    "- illumination levels, luminance distributions, glare\n",
    "\n",
    "- light distribution in rooms\n",
    "\n",
    "- energy demand due to lighting\n",
    "\n",
    "- energy savings due to daylighting"
   ]
  },
  {
   "cell_type": "code",
   "execution_count": null,
   "metadata": {},
   "outputs": [],
   "source": []
  }
 ],
 "metadata": {
  "kernelspec": {
   "display_name": "Python 3 (ipykernel)",
   "language": "python",
   "name": "python3"
  },
  "language_info": {
   "codemirror_mode": {
    "name": "ipython",
    "version": 3
   },
   "file_extension": ".py",
   "mimetype": "text/x-python",
   "name": "python",
   "nbconvert_exporter": "python",
   "pygments_lexer": "ipython3",
   "version": "3.11.7"
  },
  "widgets": {
   "application/vnd.jupyter.widget-state+json": {
    "state": {},
    "version_major": 2,
    "version_minor": 0
   }
  }
 },
 "nbformat": 4,
 "nbformat_minor": 4
}
